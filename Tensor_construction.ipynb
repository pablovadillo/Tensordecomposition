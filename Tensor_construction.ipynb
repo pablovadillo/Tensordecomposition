{
 "cells": [
  {
   "cell_type": "markdown",
   "id": "5a89c546-dc5a-450e-bf98-ed4aff13b5d8",
   "metadata": {},
   "source": [
    "# Tensor construction"
   ]
  },
  {
   "cell_type": "code",
   "execution_count": 2,
   "id": "0e8dda9f-6057-447f-8e2d-f153019739f1",
   "metadata": {},
   "outputs": [],
   "source": [
    "import pandas as pd\n",
    "import matplotlib.pyplot as plt\n",
    "import seaborn as sns\n",
    "import numpy as np\n",
    "import tensorly as tl\n",
    "import math\n",
    "from scipy.interpolate import interp1d\n",
    "import tlviz"
   ]
  },
  {
   "cell_type": "markdown",
   "id": "998878e1-0007-44df-b747-7455568728a5",
   "metadata": {},
   "source": [
    "## Import data"
   ]
  },
  {
   "cell_type": "code",
   "execution_count": 3,
   "id": "c1615baa-465e-43a2-8e84-27f52bf3fb43",
   "metadata": {},
   "outputs": [],
   "source": [
    "patients = []\n",
    "for i in range(16):\n",
    "    sheet_index = 2*i + 1\n",
    "    file_path = 'TCR_seq_new.xlsx'\n",
    "    tcr_df = pd.read_excel(file_path, sheet_name=sheet_index, engine='openpyxl')\n",
    "\n",
    "    tcr_df = tcr_df.dropna(subset=['CDR3.amino.acid.sequence'])\n",
    "\n",
    "    tcr_counts = tcr_df.filter(regex='Day').copy()\n",
    "\n",
    "    tcr_counts.columns = [col.split('Day ')[1].strip() for col in tcr_counts.columns]\n",
    "    tcr_counts = tcr_counts[sorted(tcr_counts.columns, key=lambda x: int(x))]\n",
    "    tcr_counts = tcr_counts.where(~(tcr_counts.isna()), 0)\n",
    "    matrix = tcr_counts.sort_values(by=tcr_counts.columns[0], ascending=False, kind=\"mergesort\").head(100)\n",
    "    patients.append(matrix)"
   ]
  },
  {
   "cell_type": "code",
   "execution_count": 4,
   "id": "6e43f1e1-7b8d-46d2-b313-d548d0b750a6",
   "metadata": {},
   "outputs": [],
   "source": [
    "# we delete 3 patients. Two of them for not having data pre treatment and one of them for not having enough data.\n",
    "del patients[4] # SARK017. Not enough data.\n",
    "del patients[7] # SARK011. No pre treatment data.\n",
    "del patients[12] # SARK052. No pre treatment data."
   ]
  },
  {
   "cell_type": "markdown",
   "id": "5419dcf6-e624-4a3e-9205-4f966c339a9d",
   "metadata": {},
   "source": [
    "## Interpolation"
   ]
  },
  {
   "cell_type": "code",
   "execution_count": 5,
   "id": "826ee7ca-0d1f-48b8-9cc8-7a7e7296f306",
   "metadata": {},
   "outputs": [],
   "source": [
    "def interpolate_matrix(matrix, step=10):\n",
    "    original_cols = np.array(matrix.columns, dtype=float)\n",
    "    \n",
    "    start = original_cols[0]\n",
    "    end = original_cols[-1]\n",
    "    target_end = math.trunc(end/10)*10\n",
    "    \n",
    "    target_columns = np.arange(start, target_end + step, step)\n",
    "    \n",
    "    matrix_values = matrix.values\n",
    "    n_rows = matrix_values.shape[0]\n",
    "    \n",
    "    interpolated_matrix = np.zeros((n_rows, len(target_columns)))\n",
    "    \n",
    "    for i in range(n_rows):\n",
    "        f = interp1d(original_cols, matrix_values[i], kind='linear', fill_value='extrapolate')\n",
    "        interpolated_matrix[i] = f(target_columns)\n",
    "    \n",
    "    interpolated_df = pd.DataFrame(interpolated_matrix, index=matrix.index, columns=target_columns)\n",
    "    \n",
    "    return interpolated_df"
   ]
  },
  {
   "cell_type": "code",
   "execution_count": 6,
   "id": "75759940-8e28-44a5-b890-deea584aad90",
   "metadata": {},
   "outputs": [],
   "source": [
    "interp_patients = []\n",
    "for i in patients:\n",
    "    interp_patients.append(interpolate_matrix(i))"
   ]
  },
  {
   "cell_type": "markdown",
   "id": "baa7c377-ea61-496b-a1bb-7ae9a7bf7ac0",
   "metadata": {},
   "source": [
    "## Joining matrices"
   ]
  },
  {
   "cell_type": "code",
   "execution_count": 7,
   "id": "c0621746-e0a1-4431-b7a8-8eb56e12fcf9",
   "metadata": {},
   "outputs": [],
   "source": [
    "# We take the patients with sufficient amount of data for each tensor (70, 100, 200, 300 days)\n",
    "patients_70 = []\n",
    "patients_100 = []\n",
    "patients_200 = []\n",
    "patients_300 = []\n",
    "for i in interp_patients:\n",
    "    if i.columns[-1] >= 70:\n",
    "        patients_70.append(i)\n",
    "    if i.columns[-1] >= 100:\n",
    "        patients_100.append(i)\n",
    "    if i.columns[-1] >= 200:\n",
    "        patients_200.append(i)\n",
    "    if i.columns[-1] >= 300:\n",
    "        patients_300.append(i)"
   ]
  },
  {
   "cell_type": "code",
   "execution_count": 8,
   "id": "bd350307-d00c-485d-9655-c028cf950f95",
   "metadata": {},
   "outputs": [],
   "source": [
    "# we select only the desired columns for each tensor (8, 11, 21, 31)\n",
    "for i in range(len(patients_70)):\n",
    "    patients_70[i] = patients_70[i].loc[:, patients_70[i].columns <= 70]\n",
    "for i in range(len(patients_100)):\n",
    "    patients_100[i] = patients_100[i].loc[:, patients_100[i].columns <= 100]\n",
    "for i in range(len(patients_200)):\n",
    "    patients_200[i] = patients_200[i].loc[:, patients_200[i].columns <= 200]\n",
    "for i in range(len(patients_300)):\n",
    "    patients_300[i] = patients_300[i].loc[:, patients_300[i].columns <= 300]"
   ]
  },
  {
   "cell_type": "code",
   "execution_count": 19,
   "id": "76f842b6-42c1-40c5-9150-c4a097e0d5f9",
   "metadata": {},
   "outputs": [],
   "source": [
    "# we join the matrices to obtain the desired tensors\n",
    "tensor_70 = np.stack(patients_70, axis=-1)\n",
    "tensor_100 = np.stack(patients_100, axis=-1)\n",
    "tensor_200 = np.stack(patients_200, axis=-1)\n",
    "tensor_300 = np.stack(patients_300, axis=-1)"
   ]
  },
  {
   "cell_type": "code",
   "execution_count": 20,
   "id": "f170d267-959a-43a4-8a6e-2b0996980004",
   "metadata": {},
   "outputs": [
    {
     "name": "stdout",
     "output_type": "stream",
     "text": [
      "(100, 8, 13)\n",
      "(100, 11, 11)\n",
      "(100, 21, 9)\n",
      "(100, 31, 6)\n"
     ]
    }
   ],
   "source": [
    "print(tensor_70.shape) # 8 time steps, 13 patients\n",
    "print(tensor_100.shape) # 11 time steps, 11 patients\n",
    "print(tensor_200.shape) # 21 time steps, 9 patients\n",
    "print(tensor_300.shape) # 31 time steps, 6 patients"
   ]
  },
  {
   "cell_type": "markdown",
   "id": "572aab87-f30a-4091-b538-9b6f5c3b1b7c",
   "metadata": {},
   "source": [
    "## Normalization into 0-1 scale"
   ]
  },
  {
   "cell_type": "code",
   "execution_count": 11,
   "id": "074c662b-33a8-4008-a112-aba3e158f493",
   "metadata": {},
   "outputs": [],
   "source": [
    "def norm_01scale(tensor):\n",
    "    sum_mode_0 = np.sum(tensor, axis=0, keepdims=True)\n",
    "    sum_mode_0[sum_mode_0 == 0] = 1\n",
    "    return tensor / sum_mode_0"
   ]
  },
  {
   "cell_type": "code",
   "execution_count": 12,
   "id": "197dbbb5-b979-46db-bfe4-2ccd21679c6c",
   "metadata": {},
   "outputs": [],
   "source": [
    "tensor_70_norm = norm_01scale(tensor_70)\n",
    "tensor_100_norm = norm_01scale(tensor_100)\n",
    "tensor_200_norm = norm_01scale(tensor_200)\n",
    "tensor_300_norm = norm_01scale(tensor_300)"
   ]
  },
  {
   "cell_type": "markdown",
   "id": "15abffb2-d812-477c-8c9a-86a4975f5cf4",
   "metadata": {},
   "source": [
    "## Scaling"
   ]
  },
  {
   "cell_type": "code",
   "execution_count": 274,
   "id": "579b05e6-f4cd-41dc-a3a5-a787b898f79e",
   "metadata": {},
   "outputs": [],
   "source": [
    "def scaling(tensor, mode, mode1, mode2):\n",
    "    scale_factors = 1 / np.sqrt(np.sum(tensor**2 , axis=(mode1, mode2)))\n",
    "\n",
    "    shape = [1] * tensor.ndim\n",
    "    shape[mode] = tensor.shape[mode]\n",
    "    scale_factors = scale_factors.reshape(shape)\n",
    "    \n",
    "    return tensor * scale_factors"
   ]
  },
  {
   "cell_type": "code",
   "execution_count": 324,
   "id": "ee9356bf-eb1e-4d1f-8ac8-ac8ffda3d668",
   "metadata": {},
   "outputs": [],
   "source": [
    "tensor_70_scaled = scaling(tensor_70, 2, 0, 1)\n",
    "tensor_100_scaled = scaling(tensor_100, 2, 0, 1)\n",
    "tensor_200_scaled = scaling(tensor_200, 2, 0, 1)\n",
    "tensor_300_scaled = scaling(tensor_300, 2, 0, 1)"
   ]
  },
  {
   "cell_type": "markdown",
   "id": "c9037fb5-4c25-4bfd-a190-d393a160038f",
   "metadata": {},
   "source": [
    "## Centering"
   ]
  },
  {
   "cell_type": "code",
   "execution_count": 13,
   "id": "c0ca11a6-64cd-44b6-99bf-f21471642ed6",
   "metadata": {},
   "outputs": [],
   "source": [
    "def centering(tensor, mode):\n",
    "    mean = np.mean(tensor, axis=mode, keepdims=True)\n",
    "    return tensor - mean"
   ]
  },
  {
   "cell_type": "code",
   "execution_count": 21,
   "id": "462dbcf1-33fc-47da-b7a7-96fb95c54dc5",
   "metadata": {},
   "outputs": [],
   "source": [
    "tensor_70_cent = centering(tensor_70, 1)\n",
    "tensor_100_cent = centering(tensor_100, 1)\n",
    "tensor_200_cent = centering(tensor_200, 1)\n",
    "tensor_300_cent = centering(tensor_300, 1)"
   ]
  },
  {
   "cell_type": "markdown",
   "id": "e9655435-cb96-41bb-9425-f3b7602a5678",
   "metadata": {},
   "source": [
    "## Saving"
   ]
  },
  {
   "cell_type": "code",
   "execution_count": 175,
   "id": "17c70dc3-155f-480d-8fbc-dd3d691f99b2",
   "metadata": {},
   "outputs": [],
   "source": [
    "# we save the tensors in numpy format\n",
    "np.save('tensors/tensor_70.npy', tensor_70)\n",
    "np.save('tensors/tensor_100.npy', tensor_100)\n",
    "np.save('tensors/tensor_200.npy', tensor_200)\n",
    "np.save('tensors/tensor_300.npy', tensor_300)\n",
    "np.save('tensors_log/tensor_70.npy', tensor_70_log)\n",
    "np.save('tensors_log/tensor_100.npy', tensor_100_log)\n",
    "np.save('tensors_log/tensor_200.npy', tensor_200_log)\n",
    "np.save('tensors_log/tensor_300.npy', tensor_300_log)"
   ]
  },
  {
   "cell_type": "code",
   "execution_count": 22,
   "id": "1d3ea03d-a85b-4e66-b87a-2c1fdfb15ced",
   "metadata": {},
   "outputs": [],
   "source": [
    "np.save('tensors_center/tensor_70.npy', tensor_70_cent)\n",
    "np.save('tensors_center/tensor_100.npy', tensor_100_cent)\n",
    "np.save('tensors_center/tensor_200.npy', tensor_200_cent)\n",
    "np.save('tensors_center/tensor_300.npy', tensor_300_cent)"
   ]
  },
  {
   "cell_type": "code",
   "execution_count": 17,
   "id": "9da3835e-d892-40fb-9f60-3d9b93c7bae2",
   "metadata": {},
   "outputs": [
    {
     "data": {
      "image/png": "[encoded data removed]",
      "text/plain": [
       "<Figure size 500x300 with 1 Axes>"
      ]
     },
     "metadata": {},
     "output_type": "display_data"
    }
   ],
   "source": [
    "tensor = tensor_70\n",
    "patient = 12\n",
    "t = np.arange(len(tensor[0,:,0]))\n",
    "\n",
    "plt.figure(figsize=(5, 3))\n",
    "for i in range(100):\n",
    "    plt.plot(t, tensor[i, :, patient])\n",
    "plt.show()"
   ]
  },
  {
   "cell_type": "code",
   "execution_count": null,
   "id": "b62dac78-2667-4bac-878d-784a485952d2",
   "metadata": {},
   "outputs": [],
   "source": []
  }
 ],
 "metadata": {
  "kernelspec": {
   "display_name": "Python 3 (ipykernel)",
   "language": "python",
   "name": "python3"
  },
  "language_info": {
   "codemirror_mode": {
    "name": "ipython",
    "version": 3
   },
   "file_extension": ".py",
   "mimetype": "text/x-python",
   "name": "python",
   "nbconvert_exporter": "python",
   "pygments_lexer": "ipython3",
   "version": "3.12.3"
  }
 },
 "nbformat": 4,
 "nbformat_minor": 5
}
